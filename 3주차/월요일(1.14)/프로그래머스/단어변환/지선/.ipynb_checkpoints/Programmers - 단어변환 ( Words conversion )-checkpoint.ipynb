{
 "cells": [
  {
   "cell_type": "code",
   "execution_count": null,
   "metadata": {},
   "outputs": [],
   "source": [
    "answer = 0\n",
    "def solution(begin, target, words):\n",
    "    #depth=0으로 시작함.\n",
    "    dfs(begin, target, 0, words)\n",
    "    return answer\n",
    "\n",
    "def change(src, dst):\n",
    "    for i in range(len(src)):\n",
    "        if src[:i]+src[i+1:] == dst[:i] + dst[i+1:]:\n",
    "            print(\"change?: \", src[:i]+src[i+1:],dst[:i] + dst[i+1:])\n",
    "            return True\n",
    "    print(\"실패입니당!.\")\n",
    "    return False\n",
    "\n",
    "def dfs(begin, target, d, words):\n",
    "    global answer\n",
    "    print(\"begin1: \", begin)\n",
    "    print(\"words list: \", words)\n",
    "    if begin == target:\n",
    "        print(\"depth? : \",d)\n",
    "        answer = d\n",
    "        return\n",
    "    else:\n",
    "        if len(words) == 0:\n",
    "            return \n",
    "        for w in range(len(words)):\n",
    "            if change(begin, words[w]):\n",
    "                word = words[:w]+words[w+1:]\n",
    "                print(\"다음차원으로 갈 word :\", word)\n",
    "                print(\"다음차원에 안가는 word : \", words[w])\n",
    "                dfs(words[w], target, d+1, word)"
   ]
  }
 ],
 "metadata": {
  "kernelspec": {
   "display_name": "Python 3",
   "language": "python",
   "name": "python3"
  },
  "language_info": {
   "codemirror_mode": {
    "name": "ipython",
    "version": 3
   },
   "file_extension": ".py",
   "mimetype": "text/x-python",
   "name": "python",
   "nbconvert_exporter": "python",
   "pygments_lexer": "ipython3",
   "version": "3.6.2"
  }
 },
 "nbformat": 4,
 "nbformat_minor": 2
}
