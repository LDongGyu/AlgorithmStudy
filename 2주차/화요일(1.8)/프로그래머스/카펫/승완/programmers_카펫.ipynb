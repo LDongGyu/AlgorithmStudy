{
 "cells": [
  {
   "cell_type": "markdown",
   "metadata": {},
   "source": [
    "보자보자 우선 \n",
    "브라운 받은거에서 4를 뺀다 그리고 나누기 2하기 (따로 저장) - n\n",
    "레드는 홀수인 경우와 이외의 경우를 따로 - red\n",
    "i랑 j를 두고 \n",
    "i가 1일 때 부터 n-1일 때 까지 1씩 커져가고\n",
    "j는 n-i로 두고 둘을 곱한게 red와 같을 때의 i,j를 찾는다\n",
    "\n",
    "i,j중 큰건 가로 작은건 세로로 넣기\n",
    "\n",
    "\n",
    "앤서에는 가로, 세로로 넣기 (가로가 더 길다)"
   ]
  },
  {
   "cell_type": "code",
   "execution_count": null,
   "metadata": {},
   "outputs": [],
   "source": [
    "def solution(brown, red):\n",
    "    n = (brown-4)/2\n",
    "    answer=[]\n",
    "    \n",
    "#빨간격자가 홀수일 때\n",
    "    if red%2 == 1:\n",
    "        m = 1\n",
    "        while m < brown + red:\n",
    "            if brown + red == m**2:\n",
    "                break\n",
    "            m += 1    \n",
    "        answer.append(m)\n",
    "        answer.append(m)\n",
    "    return answer\n",
    "\n",
    "#짝수일 때\n",
    "\n",
    "\n",
    "    i = 1\n",
    "    j = n-1\n",
    "\n",
    "    while i < n:\n",
    "        while j > 0:\n",
    "            if red == i*j:\n",
    "                break\n",
    "            j += 1\n",
    "        if red == i*j:\n",
    "            break\n",
    "        i += 1\n",
    "        \n",
    "    if i>j:\n",
    "        answer.append(i)\n",
    "        answer.append(j)\n",
    "    \n",
    "    else:\n",
    "        answer.append(j)\n",
    "        answer.append(i)\n",
    "    \n",
    "    return answer\n",
    "\n",
    "\n"
   ]
  },
  {
   "cell_type": "code",
   "execution_count": null,
   "metadata": {},
   "outputs": [],
   "source": [
    "solution(10, 2)"
   ]
  },
  {
   "cell_type": "code",
   "execution_count": null,
   "metadata": {},
   "outputs": [],
   "source": [
    "solution(8, 1)"
   ]
  }
 ],
 "metadata": {
  "kernelspec": {
   "display_name": "Python 3",
   "language": "python",
   "name": "python3"
  },
  "language_info": {
   "codemirror_mode": {
    "name": "ipython",
    "version": 3
   },
   "file_extension": ".py",
   "mimetype": "text/x-python",
   "name": "python",
   "nbconvert_exporter": "python",
   "pygments_lexer": "ipython3",
   "version": "3.7.1"
  }
 },
 "nbformat": 4,
 "nbformat_minor": 2
}
