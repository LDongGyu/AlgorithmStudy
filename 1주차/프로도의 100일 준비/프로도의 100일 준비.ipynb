{
 "cells": [
  {
   "cell_type": "markdown",
   "metadata": {},
   "source": [
    "# 프로도의 100일 준비\n",
    "\n",
    "프로도와 네오는 곧 100일을 맞이한다. 100일이 되는 날 아무것도 하지 않았을 때 후폭풍을 도저히 감당할 자신이 없었던 프로도는 네오를 위한 작은 이벤트를 준비하기로 했다. 모든 것은 준비가 되었고 이제 종이를 잘라서 “LOVE” 라는 글자를 만드는 일만 남았다. 하지만 급하게 준비하는 바람에 ‘O’, ‘V’, ‘E’ 를 잘라낼 때 엉망으로 종이를 사용해버렸고, 남은 종이는 <그림 1>과 같은 히스토그램 모양의 직각다각형이 되어버렸다. 일이 이렇게 되어버리자 프로도는 이왕이면 자신의 사랑만큼이나 큰 ‘L’자를 잘라내고 싶어졌다. 다음은 종이의 형태에 대한 설명이다.\n",
    "\n",
    "- 남은 종이는 각 변이 x축 또는 y축에 평행한 히스토그램 모양의 직각다각형이다. 이를 잘 잘라서 L-모양 직각다각형을 만들려고 한다.\n",
    "- L-모양 직각다각형이란 꼭짓점의 수가 4 또는 6이고 각 변이 모두 x축 또는 y축에 평행한 직각다각형을 의미한다.\n",
    "  1) 참고로, 꼭짓점의 수가 4인 직각다각형은 직사각형이다. 직사각형 모서리에서 조그만 직사각형을 오려내면 ‘L’ 자를 만들 수 있다.\n"
   ]
  },
  {
   "cell_type": "markdown",
   "metadata": {},
   "source": [
    "## Input"
   ]
  },
  {
   "cell_type": "code",
   "execution_count": 9,
   "metadata": {
    "scrolled": true
   },
   "outputs": [
    {
     "name": "stdout",
     "output_type": "stream",
     "text": [
      "8\n",
      "0 0\n",
      "0 100\n",
      "100 100\n",
      "100 50\n",
      "125 50\n",
      "125 60\n",
      "150 60\n",
      "150 0\n",
      "[[0, 0], [0, 100], [100, 100], [100, 50], [125, 50], [125, 60], [150, 60], [150, 0]]\n"
     ]
    }
   ],
   "source": [
    "point_count = int(input())\n",
    "space = [[0 for i in range(2)] for k in range(point_count)]\n",
    "\n",
    "for i in range(point_count):\n",
    "    temp = input().split()\n",
    "    space[i][0] = int(temp[0])\n",
    "    space[i][1] = int(temp[1])\n",
    "\n",
    "print(space)"
   ]
  },
  {
   "cell_type": "code",
   "execution_count": 14,
   "metadata": {},
   "outputs": [
    {
     "name": "stdout",
     "output_type": "stream",
     "text": [
      "first 10000\n",
      "second 2500\n",
      "first 1250\n",
      "second 1500\n",
      "first 250\n",
      "2750\n"
     ]
    }
   ],
   "source": [
    "first_big_size = 0\n",
    "second_big_size = 0\n",
    "second_point = [-1,-1]\n",
    "answer = 0\n",
    "for i in range(point_count-3):\n",
    "    if(space[i][0]==space[i+1][0]): # x좌표가 같을 때\n",
    "        first_big_size = abs(space[i][1]-space[i+1][1])*abs(space[i+1][0]-space[i+2][0])\n",
    "        print(\"first\",first_big_size)\n",
    "        if(abs(space[i+1][1]-space[i][1]) > abs(space[i+3][1]-space[i+2][1])): # 오른쪽이 더 넓을 때\n",
    "            for j in range(i+3,point_count):\n",
    "                if(space[i+3][1] > space[j][1]): # i+3의 y값보다 작다면 거기까지만 사각형\n",
    "                    second_point[0] = space[j][0]\n",
    "                    second_point[1] = space[j][1]\n",
    "                    break\n",
    "            second_big_size = abs(space[i+3][1])*abs(space[j][0]-space[i+3][0])\n",
    "            print(\"second\",second_big_size)\n",
    "            if(answer < first_big_size+second_big_size):\n",
    "                answer = first_big_size + second_big_size\n",
    "    else: # y좌표가 같을 때\n",
    "        first_big_size = abs(space[i][0]-space[i+1][0])*abs(space[i+1][1]-space[i+2][1])\n",
    "    \n",
    "print(answer)"
   ]
  },
  {
   "cell_type": "code",
   "execution_count": null,
   "metadata": {},
   "outputs": [],
   "source": []
  }
 ],
 "metadata": {
  "kernelspec": {
   "display_name": "Python 3",
   "language": "python",
   "name": "python3"
  },
  "language_info": {
   "codemirror_mode": {
    "name": "ipython",
    "version": 3
   },
   "file_extension": ".py",
   "mimetype": "text/x-python",
   "name": "python",
   "nbconvert_exporter": "python",
   "pygments_lexer": "ipython3",
   "version": "3.5.6"
  }
 },
 "nbformat": 4,
 "nbformat_minor": 2
}
