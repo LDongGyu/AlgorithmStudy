{
 "cells": [
  {
   "cell_type": "markdown",
   "metadata": {},
   "source": [
    "            7\n",
    "          3    8\n",
    "       8    1    0\n",
    "     2   7     4    4\n",
    "   4   5    2     6    5\n",
    "\n",
    "\n",
    "위와 같은 삼각형의 꼭대기에서 바닥까지 이어지는 경로 중, 거쳐간 숫자의 합이 가장 큰 경우를 찾아보려고 합니다. 아래 칸으로 이동할 때는 대각선 방향으로 한 칸 오른쪽 또는 왼쪽으로만 이동 가능합니다. 예를 들어 3에서는 그 아래칸의 8 또는 1로만 이동이 가능합니다.\n",
    "\n",
    "삼각형의 정보가 담긴 배열 triangle이 매개변수로 주어질 때, 거쳐간 숫자의 최댓값을 return 하도록 solution 함수를 완성하세요.\n",
    "\n",
    "제한사항\n",
    "삼각형의 높이는 1 이상 500 이하입니다.\n",
    "삼각형을 이루고 있는 숫자는 0 이상 9,999 이하의 정수입니다.\n",
    "입출력 예\n",
    "                            triangle\t                result\n",
    "[[7], [3, 8], [8, 1, 0], [2, 7, 4, 4], [4, 5, 2, 6, 5]]\t30\n"
   ]
  },
  {
   "cell_type": "markdown",
   "metadata": {},
   "source": [
    "height = len(triangle) 이만큼을 반복을 돌릴 것이다!\n",
    "\n",
    "temp[] 선언해서 안에 각 층을 저장하게됨 (반복문 돌림에 따라 해당되는 인덱스)\n",
    "\n",
    "add"
   ]
  },
  {
   "cell_type": "code",
   "execution_count": 267,
   "metadata": {},
   "outputs": [],
   "source": [
    "def solution(triangle):\n",
    "    answer = 0\n",
    "    depth = len(triangle)\n",
    "    temp_now = []\n",
    "    temp_before = triangle[0]\n",
    "    check = []\n",
    "    i = 0\n",
    "    \n",
    "    while i < depth:\n",
    "        j = 0\n",
    "        #temp_before = triangle[0]\n",
    "\n",
    "        if depth == 1: #first, if triangle has only one element.\n",
    "            temp_now = triangle[i]\n",
    "            answer = temp_now[0]\n",
    "            i += 1\n",
    "            break\n",
    "            \n",
    "        elif i == (depth): #last\n",
    "            i += 1\n",
    "            \n",
    "        elif i ==0 and j ==0:\n",
    "            check = temp_before\n",
    "            i += 1\n",
    "            continue\n",
    "            \n",
    "        else: #middle\n",
    "            check = []\n",
    "            while j < i:\n",
    "                temp_now = triangle[i]\n",
    "                check.append(temp_before[j] + temp_now[j])\n",
    "                check.append(temp_before[j] + temp_now[j+1])\n",
    "                j += 1\n",
    "            i += 1\n",
    "            temp_before = pick(check)\n",
    "\n",
    "\n",
    "            \n",
    "    answer = max(temp_before)\n",
    "    return answer\n",
    "\n",
    "def pick(arg):\n",
    "    k = 0\n",
    "    arg_len = len(arg)\n",
    "    result = []\n",
    "    while k < arg_len:\n",
    "        x = 1\n",
    "        if k == 0:\n",
    "            result.append(arg[k])\n",
    "            k += 1\n",
    "            continue\n",
    "            \n",
    "        elif k == (arg_len-1):\n",
    "            result.append(arg[k])\n",
    "            break\n",
    "            \n",
    "        elif (k%2)== 1:\n",
    "            if arg[k] >= arg[k+1]:\n",
    "                result.append(arg[k])\n",
    "            else:\n",
    "                result.append(arg[k+1])\n",
    "\n",
    "            #arg[k] = 0\n",
    "            #arg[k+1] = 0\n",
    "                \n",
    "        k += 1\n",
    "        continue\n",
    "    \n",
    "\n",
    "    return result"
   ]
  },
  {
   "cell_type": "code",
   "execution_count": 268,
   "metadata": {
    "scrolled": false
   },
   "outputs": [
    {
     "data": {
      "text/plain": [
       "30"
      ]
     },
     "execution_count": 268,
     "metadata": {},
     "output_type": "execute_result"
    }
   ],
   "source": [
    "solution([[7], [3, 8], [8, 1, 0], [2, 7, 4, 4], [4, 5, 2, 6, 5]])\n",
    "\n"
   ]
  },
  {
   "cell_type": "code",
   "execution_count": 269,
   "metadata": {
    "scrolled": true
   },
   "outputs": [
    {
     "data": {
      "text/plain": [
       "7"
      ]
     },
     "execution_count": 269,
     "metadata": {},
     "output_type": "execute_result"
    }
   ],
   "source": [
    "solution([[7]])"
   ]
  },
  {
   "cell_type": "code",
   "execution_count": 209,
   "metadata": {},
   "outputs": [
    {
     "data": {
      "text/plain": [
       "[20, 25, 20, 33, 29]"
      ]
     },
     "execution_count": 209,
     "metadata": {},
     "output_type": "execute_result"
    }
   ],
   "source": [
    "pick([20, 25, 23, 20, 19, 19, 33, 29])"
   ]
  },
  {
   "cell_type": "code",
   "execution_count": 169,
   "metadata": {
    "scrolled": true
   },
   "outputs": [
    {
     "data": {
      "text/plain": [
       "[18, 16, 15]"
      ]
     },
     "execution_count": 169,
     "metadata": {},
     "output_type": "execute_result"
    }
   ],
   "source": [
    "pick([18, 11, 16, 15])"
   ]
  }
 ],
 "metadata": {
  "kernelspec": {
   "display_name": "Python 3",
   "language": "python",
   "name": "python3"
  },
  "language_info": {
   "codemirror_mode": {
    "name": "ipython",
    "version": 3
   },
   "file_extension": ".py",
   "mimetype": "text/x-python",
   "name": "python",
   "nbconvert_exporter": "python",
   "pygments_lexer": "ipython3",
   "version": "3.7.1"
  }
 },
 "nbformat": 4,
 "nbformat_minor": 2
}
