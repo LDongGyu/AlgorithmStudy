{
 "cells": [
  {
   "cell_type": "code",
   "execution_count": null,
   "metadata": {},
   "outputs": [],
   "source": [
    "def solution(n, lost, reserve):\n",
    "    i = 0\n",
    "    stu = []\n",
    "    \n",
    "    #n명에 대한 stu리스트에 우선 1로 값을 초기화 시킨다\n",
    "    while i < n:\n",
    "        stu.append(1)\n",
    "        i += 1\n",
    "    \n",
    "    #lost에 해당하는 걸 0으로 만들자\n",
    "    i = 0\n",
    "    lost_n = len(lost)\n",
    "    while i<lost_n:\n",
    "        stu[lost[i]-1] = 0\n",
    "        i +=1\n",
    "    \n",
    "     #reserve에 해당하는 걸 2로 만들자\n",
    "    i = 0\n",
    "    reserve_n = len(reserve)\n",
    "    while i<reserve_n:\n",
    "        stu[reserve[i]-1] = 2\n",
    "        i += 1\n",
    "    \n",
    "    #이제 인덱스 0부터 차례로 오른쪽으로 가면서 0인거 발견하면 왼쪽부터 2있나 보고 있으면 그걸 1만들고 lost도 1만들고 \n",
    "    #처음꺼 예외처리 index = 0\n",
    "    if stu[0] == 0:\n",
    "        if stu[1] == 2:\n",
    "            stu[0] = 1\n",
    "            stu[1] = 1\n",
    "            \n",
    "    #진행 index = 1 ~ n-2\n",
    "    i = 1\n",
    "    while i < n-1:\n",
    "        if stu[i] == 0:\n",
    "            if stu[i-1] == 2:\n",
    "                stu[i-1] = 1\n",
    "                stu[i] = 1\n",
    "            elif stu[i+1] ==2:\n",
    "                stu[i] = 1\n",
    "                stu[i+1] = 1\n",
    "        i += 1\n",
    "                \n",
    "    #마지막꺼 예외처리 index = n-1\n",
    "    if stu[n-1] == 0:\n",
    "        if stu[n-2] == 2:\n",
    "            stu[n-2] = 1\n",
    "            stu[n-1] = 1\n",
    "    \n",
    "    answer = n - stu.count(0)\n",
    "    \n",
    "    \n",
    "    \n",
    "    return answer\n",
    "\n",
    "\n"
   ]
  },
  {
   "cell_type": "code",
   "execution_count": null,
   "metadata": {},
   "outputs": [],
   "source": [
    "solution(5,[1, 4], [2, 3, 5])"
   ]
  },
  {
   "cell_type": "code",
   "execution_count": null,
   "metadata": {},
   "outputs": [],
   "source": [
    "solution(5, [2, 4], [1, 3, 5])"
   ]
  }
 ],
 "metadata": {
  "kernelspec": {
   "display_name": "Python 3",
   "language": "python",
   "name": "python3"
  },
  "language_info": {
   "codemirror_mode": {
    "name": "ipython",
    "version": 3
   },
   "file_extension": ".py",
   "mimetype": "text/x-python",
   "name": "python",
   "nbconvert_exporter": "python",
   "pygments_lexer": "ipython3",
   "version": "3.7.1"
  }
 },
 "nbformat": 4,
 "nbformat_minor": 2
}
