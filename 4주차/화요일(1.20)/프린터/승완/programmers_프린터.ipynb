{
 "cells": [
  {
   "cell_type": "markdown",
   "metadata": {},
   "source": [
    "일반적인 프린터는 인쇄 요청이 들어온 순서대로 인쇄합니다. 그렇기 때문에 중요한 문서가 나중에 인쇄될 수 있습니다. 이런 문제를 보완하기 위해 중요도가 높은 문서를 먼저 인쇄하는 프린터를 개발했습니다. 이 새롭게 개발한 프린터는 아래와 같은 방식으로 인쇄 작업을 수행합니다.\n",
    "\n",
    "1. 인쇄 대기목록의 가장 앞에 있는 문서(J)를 대기목록에서 꺼냅니다.\n",
    "2. 나머지 인쇄 대기목록에서 J보다 중요도가 높은 문서가 한 개라도 존재하면 J를 대기목록의 가장 마지막에 넣습니다.\n",
    "3. 그렇지 않으면 J를 인쇄합니다.\n",
    "예를 들어, 4개의 문서(A, B, C, D)가 순서대로 인쇄 대기목록에 있고 중요도가 2 1 3 2 라면 C D A B 순으로 인쇄하게 됩니다.\n",
    "\n",
    "내가 인쇄를 요청한 문서가 몇 번째로 인쇄되는지 알고 싶습니다. 위의 예에서 C는 1번째로, A는 3번째로 인쇄됩니다.\n",
    "\n",
    "현재 대기목록에 있는 문서의 중요도가 순서대로 담긴 배열 priorities와 내가 인쇄를 요청한 문서가 현재 대기목록의 어떤 위치에 있는지를 알려주는 location이 매개변수로 주어질 때, 내가 인쇄를 요청한 문서가 몇 번째로 인쇄되는지 return 하도록 solution 함수를 작성해주세요.\n",
    "\n",
    "제한사항\n",
    "현재 대기목록에는 1개 이상 100개 이하의 문서가 있습니다.\n",
    "인쇄 작업의 중요도는 1~9로 표현하며 숫자가 클수록 중요하다는 뜻입니다.\n",
    "location은 0 이상 (현재 대기목록에 있는 작업 수 - 1) 이하의 값을 가지며 대기목록의 가장 앞에 있으면 0, 두 번째에 있으면 1로 표현합니다.\n",
    "입출력 예\n",
    "priorities\tlocation\treturn\n",
    "[2, 1, 3, 2]\t2\t1\n",
    "[1, 1, 9, 1, 1, 1]\t0\t5\n",
    "입출력 예 설명\n",
    "예제 #1\n",
    "\n",
    "문제에 나온 예와 같습니다.\n",
    "\n",
    "예제 #2\n",
    "\n",
    "6개의 문서(A, B, C, D, E, F)가 인쇄 대기목록에 있고 중요도가 1 1 9 1 1 1 이므로 C D E F A B 순으로 인쇄합니다."
   ]
  },
  {
   "cell_type": "markdown",
   "metadata": {},
   "source": [
    "1. priorities의 길이 p_len\n",
    "그 길이만큼의 dict key_i\n",
    "priorities를 vlaue로 인덱스를 key로 하는 dictionary dic만들기\n",
    "\n",
    "2. 순서를 찾아서 그 순서대로 저장\n"
   ]
  },
  {
   "cell_type": "code",
   "execution_count": 109,
   "metadata": {},
   "outputs": [],
   "source": [
    "def solution(priorities, location):\n",
    "    answer = 0\n",
    "    \n",
    "    #1.\n",
    "    p_len = len(priorities)\n",
    "    dic = {}\n",
    "    stack_key = []\n",
    "    i = 0\n",
    "    \n",
    "    while i < p_len:\n",
    "        dic[i] = priorities[i]\n",
    "        stack_key.append(i)\n",
    "        i += 1\n",
    "    \n",
    "    #2.\n",
    "    dic_cp = dic.copy()\n",
    "    max_key = []\n",
    "    k_temp = 0\n",
    "    while dic_cp != {}: #stop when dic_cp doesn't have any keys and values.\n",
    "        max_val = 0\n",
    "        for k in stack_key:\n",
    "            if max_val < dic_cp[k]:\n",
    "                max_val = dic_cp[k] \n",
    "                k_temp = k\n",
    "        max_key.append(k_temp)\n",
    "        stack_key = stack_key[stack_key.index(k_temp)+1:] + stack_key[:stack_key.index(k_temp)]\n",
    "        del dic_cp[k_temp]\n",
    "        if dic_cp != {}:\n",
    "            continue\n",
    "    \n",
    "    #3.\n",
    "    answer = max_key.index(location)\n",
    "    return answer + 1"
   ]
  },
  {
   "cell_type": "code",
   "execution_count": null,
   "metadata": {},
   "outputs": [],
   "source": [
    "#다른 답\n",
    "def solution(p, l):\n",
    "    ans = 0\n",
    "    m = max(p)\n",
    "    while True:\n",
    "        v = p.pop(0)\n",
    "        if m == v:\n",
    "            ans += 1\n",
    "            if l == 0:\n",
    "                break\n",
    "            else:\n",
    "                l -= 1\n",
    "            m = max(p)\n",
    "        else:\n",
    "            p.append(v)\n",
    "            if l == 0:\n",
    "                l = len(p)-1\n",
    "            else:\n",
    "                l -= 1\n",
    "    return ans"
   ]
  },
  {
   "cell_type": "code",
   "execution_count": null,
   "metadata": {},
   "outputs": [],
   "source": [
    "#다른 답\n",
    "def solution(priorities, location):\n",
    "    answer = 0\n",
    "    search, c = sorted(priorities, reverse=True), 0\n",
    "    while True:\n",
    "        for i, priority in enumerate(priorities):\n",
    "            s = search[c]\n",
    "            if priority == s:\n",
    "                c += 1\n",
    "                answer += 1\n",
    "                if i == location:\n",
    "                    break\n",
    "        else:\n",
    "            continue\n",
    "        break\n",
    "    return answer"
   ]
  },
  {
   "cell_type": "code",
   "execution_count": 110,
   "metadata": {
    "scrolled": false
   },
   "outputs": [
    {
     "data": {
      "text/plain": [
       "2"
      ]
     },
     "execution_count": 110,
     "metadata": {},
     "output_type": "execute_result"
    }
   ],
   "source": [
    "solution([3, 4, 7, 1, 4, 3, 9], 2)"
   ]
  },
  {
   "cell_type": "code",
   "execution_count": 111,
   "metadata": {
    "scrolled": false
   },
   "outputs": [
    {
     "data": {
      "text/plain": [
       "1"
      ]
     },
     "execution_count": 111,
     "metadata": {},
     "output_type": "execute_result"
    }
   ],
   "source": [
    "solution([2, 1, 3, 2], 2)"
   ]
  }
 ],
 "metadata": {
  "kernelspec": {
   "display_name": "Python 3",
   "language": "python",
   "name": "python3"
  },
  "language_info": {
   "codemirror_mode": {
    "name": "ipython",
    "version": 3
   },
   "file_extension": ".py",
   "mimetype": "text/x-python",
   "name": "python",
   "nbconvert_exporter": "python",
   "pygments_lexer": "ipython3",
   "version": "3.7.1"
  }
 },
 "nbformat": 4,
 "nbformat_minor": 2
}
