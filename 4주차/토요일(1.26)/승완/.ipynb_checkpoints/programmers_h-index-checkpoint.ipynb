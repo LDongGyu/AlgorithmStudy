{
 "cells": [
  {
   "cell_type": "markdown",
   "metadata": {},
   "source": [
    "H-Index는 과학자의 생산성과 영향력을 나타내는 지표입니다. 어느 과학자의 H-Index를 나타내는 값인 h를 구하려고 합니다. 위키백과1에 따르면, H-Index는 다음과 같이 구합니다.\n",
    "\n",
    "어떤 과학자가 발표한 논문 n편 중, h번 이상 인용된 논문이 h편 이상이고 나머지 논문이 h번 이하 인용되었다면 h가 이 과학자의 H-Index입니다.\n",
    "\n",
    "어떤 과학자가 발표한 논문의 인용 횟수를 담은 배열 citations가 매개변수로 주어질 때, 이 과학자의 H-Index를 return 하도록 solution 함수를 작성해주세요.\n",
    "\n",
    "제한사항\n",
    "과학자가 발표한 논문의 수는 1편 이상 1,000편 이하입니다.\n",
    "논문별 인용 횟수는 0회 이상 10,000회 이하입니다.\n",
    "입출력 예\n",
    "citations\treturn\n",
    "[3, 0, 6, 1, 5]\t3\n",
    "입출력 예 설명\n",
    "이 과학자가 발표한 논문의 수는 5편이고, 그중 3편의 논문은 3회 이상 인용되었습니다. 그리고 나머지 2편의 논문은 3회 이하 인용되었기 때문에 이 과학자의 H-Index는 3입니다.\n",
    "\n"
   ]
  },
  {
   "cell_type": "markdown",
   "metadata": {},
   "source": [
    "Gole : pythonic coding!!\n",
    "\n",
    "using for, enumerate etc"
   ]
  },
  {
   "cell_type": "code",
   "execution_count": 51,
   "metadata": {},
   "outputs": [],
   "source": [
    "def solution(citations):\n",
    "    answer = 0\n",
    "    cit_len = len(citations)\n",
    "    cit = sorted(citations)\n",
    "    \n",
    "    if min(citations) >= cit_len:\n",
    "        return cit_len\n",
    "        \n",
    "    \"\"\"for idx, val in enumerate(cit):\n",
    "        i = idx\n",
    "        print(\"i: \", i)\n",
    "        count = 0\n",
    "        while i < cit_len:\n",
    "            if val <= cit[i]:\n",
    "                count += 1\n",
    "            i += 1\n",
    "        if val > count:\n",
    "            temp_val = val\n",
    "            temp_idx = idx\n",
    "            print(\"idx:\", idx)\n",
    "            print(\"count: \", count)\n",
    "            break\n",
    "    \n",
    "    answer = cit[temp_idx-1]\"\"\"\n",
    "    i = 0\n",
    "    while i < cit[-1]:\n",
    "        k = 0\n",
    "        count = 0\n",
    "        while k < cit_len:\n",
    "            if i <= cit[k]:\n",
    "                count += 1\n",
    "            k += 1\n",
    "        if i > count:\n",
    "            answer = i-1\n",
    "            break\n",
    "        i += 1\n",
    "    \n",
    "    \n",
    "    \n",
    "    \n",
    "    return answer"
   ]
  },
  {
   "cell_type": "code",
   "execution_count": null,
   "metadata": {},
   "outputs": [],
   "source": [
    "#other's answer\n",
    "\n",
    "def solution(citations):\n",
    "    citations = sorted(citations)\n",
    "    l = len(citations)\n",
    "    for i in range(l):\n",
    "        if citations[i] >= l-i:\n",
    "            return l-i\n",
    "    return 0\n"
   ]
  },
  {
   "cell_type": "code",
   "execution_count": 61,
   "metadata": {
    "scrolled": true
   },
   "outputs": [
    {
     "name": "stdout",
     "output_type": "stream",
     "text": [
      "cit:  [1, 1, 3, 4, 7, 9, 11, 13, 14]\n",
      "i: 0\n",
      "count: 9\n",
      "i: 1\n",
      "count: 9\n",
      "i: 2\n",
      "count: 7\n",
      "i: 3\n",
      "count: 7\n",
      "i: 4\n",
      "count: 6\n",
      "i: 5\n",
      "count: 5\n",
      "i: 6\n",
      "count: 5\n"
     ]
    },
    {
     "data": {
      "text/plain": [
       "5"
      ]
     },
     "execution_count": 61,
     "metadata": {},
     "output_type": "execute_result"
    }
   ],
   "source": [
    "solution([1, 3, 4, 1, 11, 7, 9, 13, 14])"
   ]
  },
  {
   "cell_type": "code",
   "execution_count": 60,
   "metadata": {
    "scrolled": false
   },
   "outputs": [
    {
     "name": "stdout",
     "output_type": "stream",
     "text": [
      "cit:  [1, 1, 3, 4, 7, 9, 11]\n",
      "i: 0\n",
      "count: 7\n",
      "i: 1\n",
      "count: 7\n",
      "i: 2\n",
      "count: 5\n",
      "i: 3\n",
      "count: 5\n",
      "i: 4\n",
      "count: 4\n",
      "i: 5\n",
      "count: 3\n"
     ]
    },
    {
     "data": {
      "text/plain": [
       "4"
      ]
     },
     "execution_count": 60,
     "metadata": {},
     "output_type": "execute_result"
    }
   ],
   "source": [
    "solution([1, 3, 4, 1, 11, 7, 9])"
   ]
  },
  {
   "cell_type": "code",
   "execution_count": 59,
   "metadata": {},
   "outputs": [
    {
     "name": "stdout",
     "output_type": "stream",
     "text": [
      "cit:  [1, 22, 42]\n",
      "i: 0\n",
      "count: 3\n",
      "i: 1\n",
      "count: 3\n",
      "i: 2\n",
      "count: 2\n",
      "i: 3\n",
      "count: 2\n"
     ]
    },
    {
     "data": {
      "text/plain": [
       "2"
      ]
     },
     "execution_count": 59,
     "metadata": {},
     "output_type": "execute_result"
    }
   ],
   "source": [
    "solution([1, 22, 42])"
   ]
  },
  {
   "cell_type": "code",
   "execution_count": 58,
   "metadata": {},
   "outputs": [
    {
     "name": "stdout",
     "output_type": "stream",
     "text": [
      "cit:  [1, 2, 3, 3, 3, 3, 4, 4, 5, 6, 7, 7, 8, 8, 8, 9, 9, 10, 10, 10]\n",
      "i: 0\n",
      "count: 20\n",
      "i: 1\n",
      "count: 20\n",
      "i: 2\n",
      "count: 19\n",
      "i: 3\n",
      "count: 18\n",
      "i: 4\n",
      "count: 14\n",
      "i: 5\n",
      "count: 12\n",
      "i: 6\n",
      "count: 11\n",
      "i: 7\n",
      "count: 10\n",
      "i: 8\n",
      "count: 8\n",
      "i: 9\n",
      "count: 5\n"
     ]
    },
    {
     "data": {
      "text/plain": [
       "8"
      ]
     },
     "execution_count": 58,
     "metadata": {},
     "output_type": "execute_result"
    }
   ],
   "source": [
    "solution([1, 2, 3, 3, 3, 3, 4, 4, 5, 6, 7, 7, 8, 8, 8, 9, 9, 10, 10, 10])"
   ]
  },
  {
   "cell_type": "code",
   "execution_count": 56,
   "metadata": {
    "scrolled": false
   },
   "outputs": [
    {
     "name": "stdout",
     "output_type": "stream",
     "text": [
      "cit:  [0, 1, 3, 5, 6]\n",
      "i: 0\n",
      "count: 5\n",
      "i: 1\n",
      "count: 4\n",
      "i: 2\n",
      "count: 3\n",
      "i: 3\n",
      "count: 3\n",
      "i: 4\n",
      "count: 2\n"
     ]
    },
    {
     "data": {
      "text/plain": [
       "3"
      ]
     },
     "execution_count": 56,
     "metadata": {},
     "output_type": "execute_result"
    }
   ],
   "source": [
    "solution([3, 0, 6, 1, 5])"
   ]
  }
 ],
 "metadata": {
  "kernelspec": {
   "display_name": "Python 3",
   "language": "python",
   "name": "python3"
  },
  "language_info": {
   "codemirror_mode": {
    "name": "ipython",
    "version": 3
   },
   "file_extension": ".py",
   "mimetype": "text/x-python",
   "name": "python",
   "nbconvert_exporter": "python",
   "pygments_lexer": "ipython3",
   "version": "3.7.1"
  }
 },
 "nbformat": 4,
 "nbformat_minor": 2
}
