{
 "cells": [
  {
   "cell_type": "markdown",
   "metadata": {},
   "source": [
    "문제 설명\n",
    "매운 것을 좋아하는 Leo는 모든 음식의 스코빌 지수를 K 이상으로 만들고 싶습니다. 모든 음식의 스코빌 지수를 K 이상으로 만들기 위해 Leo는 스코빌 지수가 가장 낮은 두 개의 음식을 아래와 같이 특별한 방법으로 섞어 새로운 음식을 만듭니다.\n",
    "\n",
    "섞은 음식의 스코빌 지수 = 가장 맵지 않은 음식의 스코빌 지수 + (두 번째로 맵지 않은 음식의 스코빌 지수 * 2)\n",
    "Leo는 모든 음식의 스코빌 지수가 K 이상이 될 때까지 반복하여 섞습니다.\n",
    "Leo가 가진 음식의 스코빌 지수를 담은 배열 scoville과 원하는 스코빌 지수 K가 주어질 때, 모든 음식의 스코빌 지수를 K 이상으로 만들기 위해 섞어야 하는 최소 횟수를 return 하도록 solution 함수를 작성해주세요.\n",
    "\n",
    "제한 사항\n",
    "scoville의 길이는 1 이상 1,000,000 이하입니다.\n",
    "K는 0 이상 1,000,000,000 이하입니다.\n",
    "scoville의 원소는 각각 0 이상 1,000,000 이하입니다.\n",
    "모든 음식의 스코빌 지수를 K 이상으로 만들 수 없는 경우에는 -1을 return 합니다.\n",
    "\n",
    "\n",
    "입출력 예\n",
    "scoville\tK\treturn\n",
    "[1, 2, 3, 9, 10, 12]\t7\t2\n",
    "입출력 예 설명\n",
    "스코빌 지수가 1인 음식과 2인 음식을 섞으면 음식의 스코빌 지수가 아래와 같이 됩니다.\n",
    "새로운 음식의 스코빌 지수 = 1 + (2 * 2) = 5\n",
    "가진 음식의 스코빌 지수 = [5, 3, 9, 10, 12]\n",
    "\n",
    "스코빌 지수가 3인 음식과 5인 음식을 섞으면 음식의 스코빌 지수가 아래와 같이 됩니다.\n",
    "새로운 음식의 스코빌 지수 = 3 + (5 * 2) = 13\n",
    "가진 음식의 스코빌 지수 = [13, 9, 10, 12]\n",
    "\n",
    "모든 음식의 스코빌 지수가 7 이상이 되었고 이때 섞은 횟수는 2회입니다."
   ]
  },
  {
   "cell_type": "code",
   "execution_count": 67,
   "metadata": {},
   "outputs": [],
   "source": [
    "def solution(scoville, K):\n",
    "    \n",
    "    scov_len = len(scoville)\n",
    "    i = 0\n",
    "    answer = 0\n",
    "    while i < scov_len:\n",
    "\n",
    "\n",
    "        if scoville[i] >= K: # skip numbers which is same or above with K\n",
    "            i += 1\n",
    "            continue\n",
    "        else: \n",
    "            scoville = pick(scoville, K, scov_len, answer)\n",
    "            answer = scoville[-1]\n",
    "            del scoville[-1]    #\n",
    "           # if len(scoville) == 1:\n",
    "            #    answer = -1    \n",
    "            scov_len = len(scoville)\n",
    "            \n",
    "    return answer\n",
    "\n",
    "\n",
    "# pick min number, S == scoville, K == K, L == scov_len, A == answer\n",
    "\n",
    "def pick(S, K, L, A): \n",
    "    S.sort()\n",
    "    if L == 1:    # if L == 1  return -1 for a result\n",
    "        A = -1\n",
    "        return [-1] # It used to return just int -1 at the first time, and it made an error\n",
    "                    # It should be a list!!!!!!!!!!\n",
    "\n",
    "    Min3= (S[1]*2) + S[0]\n",
    "    del S[0]\n",
    "    del S[0]\n",
    "    S.append(Min3)\n",
    "    S.sort()\n",
    "\n",
    "    A += 1\n",
    "    S.append(int(A))\n",
    "    return S \n",
    "    \n",
    "    \n"
   ]
  },
  {
   "cell_type": "code",
   "execution_count": 62,
   "metadata": {},
   "outputs": [
    {
     "name": "stdout",
     "output_type": "stream",
     "text": [
      "~~~~~~\n"
     ]
    },
    {
     "data": {
      "text/plain": [
       "6"
      ]
     },
     "execution_count": 62,
     "metadata": {},
     "output_type": "execute_result"
    }
   ],
   "source": [
    "solution([1, 2, 3, 4, 5, 6, 7, 8, 9, 10], 15)"
   ]
  },
  {
   "cell_type": "code",
   "execution_count": 63,
   "metadata": {
    "scrolled": false
   },
   "outputs": [
    {
     "name": "stdout",
     "output_type": "stream",
     "text": [
      "~~~~~~\n"
     ]
    },
    {
     "data": {
      "text/plain": [
       "3"
      ]
     },
     "execution_count": 63,
     "metadata": {},
     "output_type": "execute_result"
    }
   ],
   "source": [
    "solution([1, 2, 3, 4, 5], 8)"
   ]
  },
  {
   "cell_type": "code",
   "execution_count": 64,
   "metadata": {},
   "outputs": [
    {
     "name": "stdout",
     "output_type": "stream",
     "text": [
      "~~~~~~\n"
     ]
    },
    {
     "data": {
      "text/plain": [
       "3"
      ]
     },
     "execution_count": 64,
     "metadata": {},
     "output_type": "execute_result"
    }
   ],
   "source": [
    "solution([1, 2, 3, 4, 9, 10, 12], 7)\n"
   ]
  },
  {
   "cell_type": "code",
   "execution_count": 65,
   "metadata": {
    "scrolled": false
   },
   "outputs": [
    {
     "name": "stdout",
     "output_type": "stream",
     "text": [
      "~~\n",
      "~~~~~~\n"
     ]
    },
    {
     "data": {
      "text/plain": [
       "-1"
      ]
     },
     "execution_count": 65,
     "metadata": {},
     "output_type": "execute_result"
    }
   ],
   "source": [
    "solution([1, 2, 3], 22)"
   ]
  },
  {
   "cell_type": "code",
   "execution_count": 66,
   "metadata": {},
   "outputs": [
    {
     "name": "stdout",
     "output_type": "stream",
     "text": [
      "~~~~~~\n"
     ]
    },
    {
     "data": {
      "text/plain": [
       "0"
      ]
     },
     "execution_count": 66,
     "metadata": {},
     "output_type": "execute_result"
    }
   ],
   "source": [
    "solution([10], 8)"
   ]
  }
 ],
 "metadata": {
  "kernelspec": {
   "display_name": "Python 3",
   "language": "python",
   "name": "python3"
  },
  "language_info": {
   "codemirror_mode": {
    "name": "ipython",
    "version": 3
   },
   "file_extension": ".py",
   "mimetype": "text/x-python",
   "name": "python",
   "nbconvert_exporter": "python",
   "pygments_lexer": "ipython3",
   "version": "3.7.1"
  }
 },
 "nbformat": 4,
 "nbformat_minor": 2
}
