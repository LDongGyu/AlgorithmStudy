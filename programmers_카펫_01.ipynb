{
 "cells": [
  {
   "cell_type": "code",
   "execution_count": 24,
   "metadata": {},
   "outputs": [],
   "source": [
    "def solution(brown, red):\n",
    "    n = (brown-4)/2\n",
    "    answer=[]\n",
    "    int(n)\n",
    "#빨간격자가 1일 때\n",
    "    if red == 1:\n",
    "        m = 1\n",
    "        while m < brown + red:\n",
    "            if brown + red == m**2:\n",
    "                break\n",
    "            m += 1    \n",
    "        answer.append(m)\n",
    "        answer.append(m)\n",
    "        return answer\n",
    "\n",
    "\n",
    "\n",
    "#짝수일 때\n",
    "\n",
    "\n",
    "    i = 1\n",
    "\n",
    "    while i < n:\n",
    "        j = n-i\n",
    "        if red == i*j:\n",
    "            break\n",
    "        i += 1\n",
    "\n",
    "    if i>j:\n",
    "        answer.append(i+2)\n",
    "        answer.append(j+2)\n",
    "        \n",
    "    else:    \n",
    "        answer.append(j+2)\n",
    "        answer.append(i+2)\n",
    "    \n",
    "    return answer\n",
    "\n",
    "\n"
   ]
  },
  {
   "cell_type": "code",
   "execution_count": 9,
   "metadata": {},
   "outputs": [
    {
     "data": {
      "text/plain": [
       "[3, 3]"
      ]
     },
     "execution_count": 9,
     "metadata": {},
     "output_type": "execute_result"
    }
   ],
   "source": [
    "solution(8, 1)"
   ]
  },
  {
   "cell_type": "code",
   "execution_count": 22,
   "metadata": {},
   "outputs": [
    {
     "data": {
      "text/plain": [
       "[4.0, 3]"
      ]
     },
     "execution_count": 22,
     "metadata": {},
     "output_type": "execute_result"
    }
   ],
   "source": [
    "solution(10,2\n",
    "        )"
   ]
  },
  {
   "cell_type": "code",
   "execution_count": 23,
   "metadata": {},
   "outputs": [
    {
     "data": {
      "text/plain": [
       "[8.0, 6]"
      ]
     },
     "execution_count": 23,
     "metadata": {},
     "output_type": "execute_result"
    }
   ],
   "source": [
    "solution(24,24)"
   ]
  },
  {
   "cell_type": "code",
   "execution_count": 15,
   "metadata": {},
   "outputs": [
    {
     "data": {
      "text/plain": [
       "([4002.0, 502], int)"
      ]
     },
     "execution_count": 15,
     "metadata": {},
     "output_type": "execute_result"
    }
   ],
   "source": [
    "solution(9004,2000000)"
   ]
  }
 ],
 "metadata": {
  "kernelspec": {
   "display_name": "Python 3",
   "language": "python",
   "name": "python3"
  },
  "language_info": {
   "codemirror_mode": {
    "name": "ipython",
    "version": 3
   },
   "file_extension": ".py",
   "mimetype": "text/x-python",
   "name": "python",
   "nbconvert_exporter": "python",
   "pygments_lexer": "ipython3",
   "version": "3.7.1"
  }
 },
 "nbformat": 4,
 "nbformat_minor": 2
}
