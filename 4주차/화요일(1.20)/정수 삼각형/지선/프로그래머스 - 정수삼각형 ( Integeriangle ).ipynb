{
 "cells": [
  {
   "cell_type": "markdown",
   "metadata": {},
   "source": [
    "### 정수삼각형\n",
    "\n",
    "![alt text](https://grepp-programmers.s3.amazonaws.com/files/production/97ec02cc39/296a0863-a418-431d-9e8c-e57f7a9722ac.png \"예시\")\n",
    "\n",
    "\n",
    "*위와 같은 삼각형의 꼭대기에서 바닥까지 이어지는 경로 중, 거쳐간 숫자의 합이 가장 큰 경우를 찾아보려고 합니다. 아래 칸으로 이동할 때는 대각선 방향으로 한 칸 오른쪽 또는 왼쪽으로만 이동 가능합니다. 예를 들어 3에서는 그 아래칸의 8 또는 1로만 이동이 가능합니다.\n",
    "\n",
    "*삼각형의 정보가 담긴 배열 triangle이 매개변수로 주어질 때, 거쳐간 숫자의 최댓값을 return 하도록 solution 함수를 완성하세요.\n",
    "\n",
    "**제한사항**\n",
    "\n",
    "- 삼각형의 높이는 1 이상 500 이하입니다.\n",
    "- 삼각형을 이루고 있는 숫자는 0 이상 9,999 이하의 정수입니다.\n"
   ]
  },
  {
   "cell_type": "code",
   "execution_count": 2,
   "metadata": {},
   "outputs": [],
   "source": [
    "def solution(triangle):\n",
    "    answer = 0\n",
    "    \n",
    "    triangle_leaves = []\n",
    "    for line in triangle:\n",
    "        triangle_leaves.append(line)\n",
    "\n",
    "    n = len(triangle_leaves)\n",
    "    \"\"\"\n",
    "    for i, leaves in enumerate(triangle_leaves[-2::-1]):\n",
    "        print(i,\"번째 칸\",leaves)\n",
    "        for j, leaf in enumerate(leaves):\n",
    "            print(j)\n",
    "            left = triangle_leaves[n-i-1][j]\n",
    "            print(\"left\",left)\n",
    "            right = triangle_leaves[n-i-1][j+1]\n",
    "            print(\"right\",right)\n",
    "            triangle_leaves[n-i-2][j] += max(left, right)\n",
    "            print(triangle_leaves[n-i-2][j])\"\"\"\n",
    "            \n",
    "    print(\"__________________\")\n",
    "    counter = 0\n",
    "    for i in range(n-2,-1,-1):\n",
    "        leaves = triangle_leaves[i]\n",
    "        print(i,\"번째 칸\",leaves)\n",
    "        \n",
    "        for j in range(0,len(leaves)):\n",
    "            print(j)\n",
    "            left = triangle_leaves[i+1][j]#대각선 왼쪽\n",
    "            print(\"left\",left)\n",
    "            right = triangle_leaves[i+1][j+1]#대각선 오른쪽\n",
    "            print(\"right\",right)\n",
    "            triangle_leaves[i][j] += max(left, right)\n",
    "            print(i,\" \",j,\":\",triangle_leaves[i][j])\n",
    "    \n",
    "    answer = triangle_leaves[0][0]\n",
    "    \n",
    "\n",
    "    return answer\n",
    "\n",
    "\n"
   ]
  },
  {
   "cell_type": "code",
   "execution_count": 3,
   "metadata": {},
   "outputs": [
    {
     "name": "stdout",
     "output_type": "stream",
     "text": [
      "__________________\n",
      "3 번째 칸 [2, 7, 4, 4]\n",
      "0\n",
      "left 4\n",
      "right 5\n",
      "3   0 : 7\n",
      "1\n",
      "left 5\n",
      "right 2\n",
      "3   1 : 12\n",
      "2\n",
      "left 2\n",
      "right 6\n",
      "3   2 : 10\n",
      "3\n",
      "left 6\n",
      "right 5\n",
      "3   3 : 10\n",
      "2 번째 칸 [8, 1, 0]\n",
      "0\n",
      "left 7\n",
      "right 12\n",
      "2   0 : 20\n",
      "1\n",
      "left 12\n",
      "right 10\n",
      "2   1 : 13\n",
      "2\n",
      "left 10\n",
      "right 10\n",
      "2   2 : 10\n",
      "1 번째 칸 [3, 8]\n",
      "0\n",
      "left 20\n",
      "right 13\n",
      "1   0 : 23\n",
      "1\n",
      "left 13\n",
      "right 10\n",
      "1   1 : 21\n",
      "0 번째 칸 [7]\n",
      "0\n",
      "left 23\n",
      "right 21\n",
      "0   0 : 30\n"
     ]
    },
    {
     "data": {
      "text/plain": [
       "30"
      ]
     },
     "execution_count": 3,
     "metadata": {},
     "output_type": "execute_result"
    }
   ],
   "source": [
    "solution([[7], [3, 8], [8, 1, 0], [2, 7, 4, 4], [4, 5, 2, 6, 5]])"
   ]
  },
  {
   "cell_type": "code",
   "execution_count": null,
   "metadata": {},
   "outputs": [],
   "source": []
  }
 ],
 "metadata": {
  "kernelspec": {
   "display_name": "Python 3",
   "language": "python",
   "name": "python3"
  },
  "language_info": {
   "codemirror_mode": {
    "name": "ipython",
    "version": 3
   },
   "file_extension": ".py",
   "mimetype": "text/x-python",
   "name": "python",
   "nbconvert_exporter": "python",
   "pygments_lexer": "ipython3",
   "version": "3.6.2"
  }
 },
 "nbformat": 4,
 "nbformat_minor": 2
}
