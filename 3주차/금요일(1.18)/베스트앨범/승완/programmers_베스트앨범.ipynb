{
 "cells": [
  {
   "cell_type": "markdown",
   "metadata": {},
   "source": [
    "베스트앨범\n",
    "문제 설명\n",
    "스트리밍 사이트에서 장르 별로 가장 많이 재생된 노래를 두 개씩 모아 베스트 앨범을 출시하려 합니다. 노래는 고유 번호로 구분하며, 노래를 수록하는 기준은 다음과 같습니다.\n",
    "\n",
    "속한 노래가 많이 재생된 장르를 먼저 수록합니다.\n",
    "장르 내에서 많이 재생된 노래를 먼저 수록합니다.\n",
    "장르 내에서 재생 횟수가 같은 노래 중에서는 고유 번호가 낮은 노래를 먼저 수록합니다.\n",
    "노래의 장르를 나타내는 문자열 배열 genres와 노래별 재생 횟수를 나타내는 정수 배열 plays가 주어질 때, 베스트 앨범에 들어갈 노래의 고유 번호를 순서대로 return 하도록 solution 함수를 완성하세요.\n",
    "\n",
    "제한사항\n",
    "genres[i]는 고유번호가 i인 노래의 장르입니다.\n",
    "plays[i]는 고유번호가 i인 노래가 재생된 횟수입니다.\n",
    "genres와 plays의 길이는 같으며, 이는 1 이상 10,000 이하입니다.\n",
    "장르 종류는 100개 미만입니다.\n",
    "장르에 속한 곡이 하나라면, 하나의 곡만 선택합니다.\n",
    "모든 장르는 재생된 횟수가 다릅니다.\n",
    "입출력 예\n",
    "genres\tplays\treturn\n",
    "[classic, pop, classic, classic, pop]\t[500, 600, 150, 800, 2500]\t[4, 1, 3, 0]\n",
    "입출력 예 설명\n",
    "classic 장르는 1,450회 재생되었으며, classic 노래는 다음과 같습니다.\n",
    "\n",
    "고유 번호 3: 800회 재생\n",
    "고유 번호 0: 500회 재생\n",
    "고유 번호 2: 150회 재생\n",
    "pop 장르는 3,100회 재생되었으며, pop 노래는 다음과 같습니다.\n",
    "\n",
    "고유 번호 4: 2,500회 재생\n",
    "고유 번호 1: 600회 재생\n",
    "따라서 pop 장르의 [4, 1]번 노래를 먼저, classic 장르의 [3, 0]번 노래를 그다음에 수록합니다."
   ]
  },
  {
   "cell_type": "markdown",
   "metadata": {},
   "source": [
    "1. 우선 genres 이용해서 총 몇장르인지 list(set(genres)) 를 g_len으로 구하기 + g_type 해서 뭐가 있는지도 저장하기\n",
    "\n",
    "2. genres == g_type 해서 g_len으로 카운터 돌려서 같은것에 대한 인덱스를 plays[i]해서 어디에다가 더해두기.\n",
    "\n",
    "3. 그리고 이를 비교해서 순서를 맞추기\n",
    "\n",
    "4. 가장 많이 들은 장르에 해당하는 걸 인자로 @@@함수에 전달@@@ ->나온 값을 -> answer에 넣을거야\n",
    "    이거 카운터는 k길이만큼 돌리면 된다구\n",
    "\n",
    "\n",
    "5. @@@함수@@@\n",
    "장르에 해당하는게 한 개 일 때 ~\n",
    "\n",
    "한 개 이상일 때\n",
    "1회 -> 읽고 크다면 max라는 변수에 덮어쓰기 -> 1 회 한 후에 max에 해당하는 인덱스를 뽑고 max를 0으로 만든다 -> 읽고 큰걸 max에 덮어 쓰기 -> 결과에 넣기 \n",
    "2회 -> 읽고 크다면 max라는 변수에 덮어쓰기 -> 1 회 한 후에 max에 해당하는 인덱스를 뽑기 (0으로는 안만들어도 되긴함) -> 결과에 넣기\n",
    "\n",
    "\n",
    "\n",
    "다음 장르도 시작\n",
    "\n",
    "장르 개수만큼 반복!\n"
   ]
  },
  {
   "cell_type": "code",
   "execution_count": 22,
   "metadata": {},
   "outputs": [],
   "source": [
    "def solution(genres, plays):\n",
    "    answer = []\n",
    "    \n",
    "    \n",
    "    #1. check how many genres we have, how long as well.\n",
    "    all_len = len(genres)\n",
    "    g_type = list(set(genres)) #set() makes random order.\n",
    "    g_len = len(g_type)\n",
    "    p_type = [0 for num in range(g_len)] #total plays by each genres/ followed by g_type's sequence.\n",
    "    \n",
    "    #2. doubled while -> outer while : g_type (each genre), inner while : genres (all elements in genres)\n",
    "    i = 0\n",
    "    while i < g_len:\n",
    "        j = 0\n",
    "        while j < all_len:\n",
    "            if g_type[i] == genres[j]:\n",
    "                p_type[i] += plays[j]\n",
    "            j += 1\n",
    "        i += 1\n",
    "        \n",
    "    #3.   using the index (k) from p_type which has same index with g_type \n",
    "    #     k should be a list has index about total plays by genres\n",
    "    k = []\n",
    "    i = 0\n",
    "    \n",
    "    while i < g_len:\n",
    "        p_max = min(p_type)\n",
    "        j = 0\n",
    "        while j < g_len:\n",
    "            if p_type[j] > p_max:\n",
    "                p_max = p_type[j]\n",
    "            else:\n",
    "                j += 1\n",
    "                continue\n",
    "            continue\n",
    "        k.append(p_type.index(p_max))\n",
    "        p_type[p_type.index(p_max)] = 0\n",
    "        i += 1\n",
    "\n",
    "    #4. \n",
    "    i = 0\n",
    "    while i < len(k):\n",
    "        answer += func(g_type[k[i]], all_len, genres, plays)\n",
    "        i += 1\n",
    "    #print(type(k[0]))\n",
    "    \n",
    "    return answer\n",
    "\n",
    "    #5.@@@@@@@@@@@@@@@@@@@@@@@@@@@@@@@@@@@@@@@@@@@@@@@@@@@@@@@@@ \n",
    "def func(genre, total_len, g, p):\n",
    "    i = 0\n",
    "    result = []\n",
    "    \n",
    "    if g.count(genre) == 1:  #exception : if the genre has only one song\n",
    "        i = 1\n",
    "    \n",
    "    \n",
    "    while i < 2:\n",
    "        max_2 = 0\n",
    "        j = 0\n",
    "        while j < total_len:\n",
    "            if g[j] == genre:\n",
    "                if None == p[j]:\n",
    "                    j += 1\n",
    "                    continue\n",
    "                if max_2 < p[j]:\n",
    "                    max_2 = p[j]\n",
    "                else:\n",
    "                    j += 1\n",
    "                    continue\n",
    "            else:\n",
    "                j += 1\n",
    "                continue\n",
    "                \n",
    "            j += 1\n",
    "            \n",
    "        result.append(p.index(max_2))\n",
    "        p[p.index(max_2)] = None   #p에서 맥스2를 가진 것의 인덱스\n",
    "        i += 1\n",
    "        \n",
    "    \n",
    "    return result\n",
    "    \n",
    "    "
   ]
  },
  {
   "cell_type": "code",
   "execution_count": 23,
   "metadata": {},
   "outputs": [],
   "source": [
    "def solution_other(genres, plays):\n",
    "    answer = []\n",
    "    d = {e:[] for e in set(genres)}\n",
    "    for e in zip(genres, plays, range(len(plays))):\n",
    "        d[e[0]].append([e[1] , e[2]])\n",
    "    genreSort =sorted(list(d.keys()), key= lambda x: sum( map(lambda y: y[0],d[x])), reverse = True)\n",
    "    for g in genreSort:\n",
    "        temp = [e[1] for e in sorted(d[g],key= lambda x: (x[0], -x[1]), reverse = True)]\n",
    "        answer += temp[:min(len(temp),2)]\n",
    "    return answer"
   ]
  },
  {
   "cell_type": "code",
   "execution_count": 25,
   "metadata": {},
   "outputs": [
    {
     "data": {
      "text/plain": [
       "[4, 1, 5, 6, 3, 0]"
      ]
     },
     "execution_count": 25,
     "metadata": {},
     "output_type": "execute_result"
    }
   ],
   "source": [
    "solution([\"classic\", \"pop\", \"classic\", \"classic\", \"pop\", \"zazz\", \"zazz\"], [500, 600, 150, 800, 2500, 1000, 1000])"
   ]
  },
  {
   "cell_type": "code",
   "execution_count": 26,
   "metadata": {
    "scrolled": false
   },
   "outputs": [
    {
     "data": {
      "text/plain": [
       "[15, 14, 13, 4, 1, 11, 10, 3, 0, 9, 8]"
      ]
     },
     "execution_count": 26,
     "metadata": {},
     "output_type": "execute_result"
    }
   ],
   "source": [
    "solution([\"classic\", \"pop\", \"classic\", \"classic\", \"pop\", \"pop\", \"pop\", \"a\", \"a\", \"a\", \"b\", \"b\", \"c\", \"c\", \"c\", \"d\"], \n",
    "         [500, 600, 150, 800, 2500, 100, 200, 300, 400, 700, 900, 1000, 1200, 1300, 1600, 5000])"
   ]
  },
  {
   "cell_type": "code",
   "execution_count": 27,
   "metadata": {
    "scrolled": false
   },
   "outputs": [
    {
     "data": {
      "text/plain": [
       "[4, 1, 3, 0]"
      ]
     },
     "execution_count": 27,
     "metadata": {},
     "output_type": "execute_result"
    }
   ],
   "source": [
    "solution([\"classic\", \"pop\", \"classic\", \"classic\", \"pop\"], [500, 600, 150, 800, 2500])"
   ]
  },
  {
   "cell_type": "code",
   "execution_count": 28,
   "metadata": {
    "scrolled": false
   },
   "outputs": [
    {
     "data": {
      "text/plain": [
       "[3, 0]"
      ]
     },
     "execution_count": 28,
     "metadata": {},
     "output_type": "execute_result"
    }
   ],
   "source": [
    "func(\"classic\", 9, [\"classic\", \"pop\", \"classic\", \"classic\", \"pop\", \"pop\", \"a\", \"b\", \"a\"], \n",
    "     [500, 600, 150, 800, 2500, 100, 200, 300, 400] )"
   ]
  },
  {
   "cell_type": "code",
   "execution_count": 24,
   "metadata": {
    "scrolled": false
   },
   "outputs": [
    {
     "data": {
      "text/plain": [
       "[4, 9]"
      ]
     },
     "execution_count": 24,
     "metadata": {},
     "output_type": "execute_result"
    }
   ],
   "source": [
    "func(\"pop\", 11, [\"classic\", \"pop\", \"classic\", \"classic\", \"pop\", \"pop\", \"a\", \"b\", \"a\", \"pop\", \"pop\"], \n",
    "     [500, 600, 150, 800, 2500, 100, 200, 300, 400, 2500, 10] )\n"
   ]
  }
 ],
 "metadata": {
  "kernelspec": {
   "display_name": "Python 3",
   "language": "python",
   "name": "python3"
  },
  "language_info": {
   "codemirror_mode": {
    "name": "ipython",
    "version": 3
   },
   "file_extension": ".py",
   "mimetype": "text/x-python",
   "name": "python",
   "nbconvert_exporter": "python",
   "pygments_lexer": "ipython3",
   "version": "3.7.1"
  }
 },
 "nbformat": 4,
 "nbformat_minor": 2
}
