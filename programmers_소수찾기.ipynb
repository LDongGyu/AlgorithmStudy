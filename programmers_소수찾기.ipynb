{
 "cells": [
  {
   "cell_type": "markdown",
   "metadata": {},
   "source": []
  },
  {
   "cell_type": "code",
   "execution_count": 1,
   "metadata": {},
   "outputs": [],
   "source": [
    "import itertools\n",
    "import math\n",
    "\n",
    "'''def is_prime(x):\n",
    "    import math\n",
    "    if x<2: return False\n",
    "    for i in range(2,int(math.sqrt(x))+1):\n",
    "        if x%i==0: return False\n",
    "    return True\n",
    "for i in range(1,30):\n",
    "    if is_prime(i):\n",
    "        print( i, end=' ' )'''\n",
    "\n",
    "\n",
    "def solution(numbers):\n",
    "    answer = 0\n",
    "    str(numbers)\n",
    "    n = len(str(numbers))\n",
    "    i = 0\n",
    "    num_sli = []\n",
    "    num_sli_mod = []\n",
    "    result = []\n",
    "    \n",
    "    #numbers를 각각 int로 자릿수별로 나누기\n",
    "    while i < n:\n",
    "        num_sli.append(str(int(numbers%10)))\n",
    "        numbers = numbers/10\n",
    "        i += 1 \n",
    "    num_sli.reverse()\n",
    "    \n",
    "    i = 1\n",
    "\n",
    "    \n",
    "    #순열로 나타내기\n",
    "    '''while i < n+1:\n",
    "        num_sli += (list(map(''.join, itertools.permutations(num_sli, i))))\n",
    "        i += 1'''\n",
    "   \n",
    "\n",
    "    while i < n+1:\n",
    "        num_sli_mod += (list(map(''.join, itertools.permutations(num_sli, i))))\n",
    "        i += 1\n",
    "        \n",
    "\n",
    "        \n",
    "        #정수로 잘 나오나~ 체크용\n",
    "    \n",
    "    for check in num_sli_mod:\n",
    "        print(int(check))\n",
    "        \n",
    "    #이제 그 소수인지 판단만하면됨!!!!!! 근데 \n",
    "    #1\n",
    "    '''for check in num_sli_mod:\n",
    "        if int(check) < 2:\n",
    "            continue\n",
    "        if int(check) < 4:\n",
    "            continue\n",
    "        if int(check)%2==0 or int(check)%3==0:\n",
    "            continue\n",
    "        i = 5\n",
    "        while i**2 <= int(check):\n",
    "            if int(check)%i==0 or int(check)%(i+2)==0:\n",
    "                break\n",
    "            i = i + 6\n",
    "        result.append(check)'''\n",
    "    \n",
    "    #2\n",
    "    '''for x in num_sli_mod:\n",
    "        if int(x) < 2:\n",
    "            continue\n",
    "        for n in range(2, x-1):\n",
    "            if int(x) % n == 0:\n",
    "                continue\n",
    "        return True'''\n",
    "    \n",
    "    #3\n",
    "    '''for check in num_sli_mod:\n",
    "        if int(check)<2: \n",
    "            continue\n",
    "        for i in range(2,int(math.sqrt(int(check)))+1):\n",
    "            if int(check)%i==0: \n",
    "                break\n",
    "        result.append(check)'''\n",
    "    \n",
    "    \n",
    "    \n",
    "\n",
    " #   map(int, num_sli)\n",
    "  #  is_prime(num_sli)\n",
    "    \n",
    "    return result"
   ]
  },
  {
   "cell_type": "code",
   "execution_count": 9,
   "metadata": {},
   "outputs": [
    {
     "name": "stdout",
     "output_type": "stream",
     "text": [
      "1\n",
      "1\n",
      "0\n",
      "0\n",
      "11\n",
      "10\n",
      "10\n",
      "11\n",
      "10\n",
      "10\n",
      "1\n",
      "1\n",
      "0\n",
      "1\n",
      "1\n",
      "0\n",
      "110\n",
      "110\n",
      "101\n",
      "100\n",
      "101\n",
      "100\n",
      "110\n",
      "110\n",
      "101\n",
      "100\n",
      "101\n",
      "100\n",
      "11\n",
      "10\n",
      "11\n",
      "10\n",
      "1\n",
      "1\n",
      "11\n",
      "10\n",
      "11\n",
      "10\n",
      "1\n",
      "1\n",
      "1100\n",
      "1100\n",
      "1010\n",
      "1001\n",
      "1010\n",
      "1001\n",
      "1100\n",
      "1100\n",
      "1010\n",
      "1001\n",
      "1010\n",
      "1001\n",
      "110\n",
      "101\n",
      "110\n",
      "101\n",
      "11\n",
      "11\n",
      "110\n",
      "101\n",
      "110\n",
      "101\n",
      "11\n",
      "11\n"
     ]
    },
    {
     "data": {
      "text/plain": [
       "[]"
      ]
     },
     "execution_count": 9,
     "metadata": {},
     "output_type": "execute_result"
    }
   ],
   "source": [
    "solution(1100)"
   ]
  },
  {
   "cell_type": "code",
   "execution_count": null,
   "metadata": {},
   "outputs": [],
   "source": []
  },
  {
   "cell_type": "code",
   "execution_count": 136,
   "metadata": {},
   "outputs": [
    {
     "name": "stdout",
     "output_type": "stream",
     "text": [
      "1\n",
      "1\n",
      "11\n",
      "11\n"
     ]
    },
    {
     "data": {
      "text/plain": [
       "['11', '11']"
      ]
     },
     "execution_count": 136,
     "metadata": {},
     "output_type": "execute_result"
    }
   ],
   "source": [
    "solution(11)"
   ]
  }
 ],
 "metadata": {
  "kernelspec": {
   "display_name": "Python 3",
   "language": "python",
   "name": "python3"
  },
  "language_info": {
   "codemirror_mode": {
    "name": "ipython",
    "version": 3
   },
   "file_extension": ".py",
   "mimetype": "text/x-python",
   "name": "python",
   "nbconvert_exporter": "python",
   "pygments_lexer": "ipython3",
   "version": "3.7.1"
  }
 },
 "nbformat": 4,
 "nbformat_minor": 2
}
