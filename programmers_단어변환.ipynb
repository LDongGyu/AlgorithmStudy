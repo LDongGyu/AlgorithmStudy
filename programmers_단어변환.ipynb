{
 "cells": [
  {
   "cell_type": "markdown",
   "metadata": {},
   "source": [
    "우선 타겟이 워드에 있는지 여부 -> 없으면 return 0\n",
    "\n",
    "타겟의 길이를 측정해서 (다른 것도 길이는 다 같기에) 카운터 돌리고 인덱스로 나눠서 각각의 알파벳이 뭔지 아스키로 저장하기 (for문 두 개 필요?!)\n",
    "\n",
    "비긴과 하나만 다른 단어를 찾게 해야해 for 중복으로 -> 그래서 그걸 비긴으로 저장? & 원래 비긴은 삭제?! & 원래 있던게 다시 돌아가지 않도록 해야함!!\n",
    "이거 성공하면 answer 하나 업\n",
    "단어 찾을 때 두 가지 방법 (1.하나의 단어를 알파벳 다 찾기! or 2.모든 단어들을 알파벳별로 찾기!)\n",
    "\n",
    "1. hit\tcog\t[hot, dot, dog, lot, log, cog] \n",
    "일 때 \n",
    "\n",
    "\n",
    "\n",
    "\n",
    "\n"
   ]
  }
 ],
 "metadata": {
  "kernelspec": {
   "display_name": "Python 3",
   "language": "python",
   "name": "python3"
  },
  "language_info": {
   "codemirror_mode": {
    "name": "ipython",
    "version": 3
   },
   "file_extension": ".py",
   "mimetype": "text/x-python",
   "name": "python",
   "nbconvert_exporter": "python",
   "pygments_lexer": "ipython3",
   "version": "3.7.1"
  }
 },
 "nbformat": 4,
 "nbformat_minor": 2
}
